{
 "cells": [
  {
   "cell_type": "markdown",
   "metadata": {},
   "source": [
    "# Introduction to Numpy"
   ]
  },
  {
   "cell_type": "code",
   "execution_count": 2,
   "metadata": {},
   "outputs": [],
   "source": [
    "# Module import\n",
    "import numpy as np"
   ]
  },
  {
   "cell_type": "code",
   "execution_count": 3,
   "metadata": {},
   "outputs": [
    {
     "data": {
      "text/plain": [
       "array([[ 1.5, -0.1,  3. ],\n",
       "       [ 0. , -3. ,  6.5]])"
      ]
     },
     "execution_count": 3,
     "metadata": {},
     "output_type": "execute_result"
    }
   ],
   "source": [
    "# Declaration of an n-dimensional array (ndarray)\n",
    "data = np.array([[1.5, -0.1, 3], [0, -3, 6.5]])\n",
    "data"
   ]
  },
  {
   "cell_type": "code",
   "execution_count": 4,
   "metadata": {},
   "outputs": [
    {
     "data": {
      "text/plain": [
       "array([[ 15.,  -1.,  30.],\n",
       "       [  0., -30.,  65.]])"
      ]
     },
     "execution_count": 4,
     "metadata": {},
     "output_type": "execute_result"
    }
   ],
   "source": [
    "# Scalar operations\n",
    "data * 10"
   ]
  },
  {
   "cell_type": "code",
   "execution_count": 5,
   "metadata": {},
   "outputs": [
    {
     "data": {
      "text/plain": [
       "array([[ 3. , -0.2,  6. ],\n",
       "       [ 0. , -6. , 13. ]])"
      ]
     },
     "execution_count": 5,
     "metadata": {},
     "output_type": "execute_result"
    }
   ],
   "source": [
    "# Array operations\n",
    "data + data"
   ]
  },
  {
   "cell_type": "code",
   "execution_count": 6,
   "metadata": {},
   "outputs": [
    {
     "data": {
      "text/plain": [
       "(2, 3)"
      ]
     },
     "execution_count": 6,
     "metadata": {},
     "output_type": "execute_result"
    }
   ],
   "source": [
    "# Data Shape\n",
    "data.shape # Outer on the left, going to the right as one goes inner"
   ]
  },
  {
   "cell_type": "code",
   "execution_count": 7,
   "metadata": {},
   "outputs": [
    {
     "data": {
      "text/plain": [
       "dtype('float64')"
      ]
     },
     "execution_count": 7,
     "metadata": {},
     "output_type": "execute_result"
    }
   ],
   "source": [
    "# Data Types\n",
    "data.dtype"
   ]
  },
  {
   "cell_type": "code",
   "execution_count": 37,
   "metadata": {},
   "outputs": [
    {
     "data": {
      "text/plain": [
       "3"
      ]
     },
     "execution_count": 37,
     "metadata": {},
     "output_type": "execute_result"
    }
   ],
   "source": [
    "data1 = [[[1], [2], [3]], [[4], [5], [6]]]\n",
    "arr1 = np.array(data1)\n",
    "arr1.ndim"
   ]
  },
  {
   "cell_type": "code",
   "execution_count": 40,
   "metadata": {},
   "outputs": [
    {
     "data": {
      "text/plain": [
       "array([[[1],\n",
       "        [1],\n",
       "        [1]],\n",
       "\n",
       "       [[1],\n",
       "        [1],\n",
       "        [1]]])"
      ]
     },
     "execution_count": 40,
     "metadata": {},
     "output_type": "execute_result"
    }
   ],
   "source": [
    "arr2 = np.ones_like(arr1)\n",
    "arr2"
   ]
  },
  {
   "cell_type": "code",
   "execution_count": 6,
   "metadata": {},
   "outputs": [
    {
     "name": "stdout",
     "output_type": "stream",
     "text": [
      "int32\n",
      "float64\n"
     ]
    }
   ],
   "source": [
    "arr3 = np.array([1, 2, 3, 4, 6, 7, 9])\n",
    "print(arr3.dtype)\n",
    "arr4 = arr3.astype(np.float64)\n",
    "print(arr4.dtype)"
   ]
  },
  {
   "cell_type": "code",
   "execution_count": 15,
   "metadata": {},
   "outputs": [
    {
     "data": {
      "text/plain": [
       "array([5, 2, 3, 4, 6, 7, 9])"
      ]
     },
     "execution_count": 15,
     "metadata": {},
     "output_type": "execute_result"
    }
   ],
   "source": [
    "a = arr3[0:1]\n",
    "a[0] = 5\n",
    "arr3"
   ]
  },
  {
   "cell_type": "code",
   "execution_count": 31,
   "metadata": {},
   "outputs": [
    {
     "name": "stdout",
     "output_type": "stream",
     "text": [
      "353 ms ± 1.43 ms per loop (mean ± std. dev. of 7 runs, 1 loop each)\n"
     ]
    }
   ],
   "source": [
    "%%timeit\n",
    "\n",
    "def fib(n):\n",
    "    if n<= 1:\n",
    "        return n\n",
    "    return fib(n-1) + fib(n-2)\n",
    "fib(32)"
   ]
  },
  {
   "cell_type": "code",
   "execution_count": 29,
   "metadata": {},
   "outputs": [
    {
     "name": "stdout",
     "output_type": "stream",
     "text": [
      "503 ns ± 4.36 ns per loop (mean ± std. dev. of 7 runs, 1,000,000 loops each)\n"
     ]
    }
   ],
   "source": [
    "%%timeit\n",
    "\n",
    "np.arange(9).reshape(3,3)"
   ]
  },
  {
   "cell_type": "code",
   "execution_count": 30,
   "metadata": {},
   "outputs": [
    {
     "name": "stdout",
     "output_type": "stream",
     "text": [
      "CPU times: total: 0 ns\n",
      "Wall time: 0 ns\n"
     ]
    },
    {
     "data": {
      "text/plain": [
       "array([[0, 1, 2],\n",
       "       [3, 4, 5],\n",
       "       [6, 7, 8]])"
      ]
     },
     "execution_count": 30,
     "metadata": {},
     "output_type": "execute_result"
    }
   ],
   "source": [
    "%%time\n",
    "\n",
    "np.arange(9).reshape(3,3)"
   ]
  },
  {
   "cell_type": "code",
   "execution_count": 28,
   "metadata": {},
   "outputs": [
    {
     "name": "stdout",
     "output_type": "stream",
     "text": [
      "\u001b[1;31mSignature:\u001b[0m\n",
      "\u001b[0mnp\u001b[0m\u001b[1;33m.\u001b[0m\u001b[0mset_printoptions\u001b[0m\u001b[1;33m(\u001b[0m\u001b[1;33m\n",
      "\u001b[0m    \u001b[0mprecision\u001b[0m\u001b[1;33m=\u001b[0m\u001b[1;32mNone\u001b[0m\u001b[1;33m,\u001b[0m\u001b[1;33m\n",
      "\u001b[0m    \u001b[0mthreshold\u001b[0m\u001b[1;33m=\u001b[0m\u001b[1;32mNone\u001b[0m\u001b[1;33m,\u001b[0m\u001b[1;33m\n",
      "\u001b[0m    \u001b[0medgeitems\u001b[0m\u001b[1;33m=\u001b[0m\u001b[1;32mNone\u001b[0m\u001b[1;33m,\u001b[0m\u001b[1;33m\n",
      "\u001b[0m    \u001b[0mlinewidth\u001b[0m\u001b[1;33m=\u001b[0m\u001b[1;32mNone\u001b[0m\u001b[1;33m,\u001b[0m\u001b[1;33m\n",
      "\u001b[0m    \u001b[0msuppress\u001b[0m\u001b[1;33m=\u001b[0m\u001b[1;32mNone\u001b[0m\u001b[1;33m,\u001b[0m\u001b[1;33m\n",
      "\u001b[0m    \u001b[0mnanstr\u001b[0m\u001b[1;33m=\u001b[0m\u001b[1;32mNone\u001b[0m\u001b[1;33m,\u001b[0m\u001b[1;33m\n",
      "\u001b[0m    \u001b[0minfstr\u001b[0m\u001b[1;33m=\u001b[0m\u001b[1;32mNone\u001b[0m\u001b[1;33m,\u001b[0m\u001b[1;33m\n",
      "\u001b[0m    \u001b[0mformatter\u001b[0m\u001b[1;33m=\u001b[0m\u001b[1;32mNone\u001b[0m\u001b[1;33m,\u001b[0m\u001b[1;33m\n",
      "\u001b[0m    \u001b[0msign\u001b[0m\u001b[1;33m=\u001b[0m\u001b[1;32mNone\u001b[0m\u001b[1;33m,\u001b[0m\u001b[1;33m\n",
      "\u001b[0m    \u001b[0mfloatmode\u001b[0m\u001b[1;33m=\u001b[0m\u001b[1;32mNone\u001b[0m\u001b[1;33m,\u001b[0m\u001b[1;33m\n",
      "\u001b[0m    \u001b[1;33m*\u001b[0m\u001b[1;33m,\u001b[0m\u001b[1;33m\n",
      "\u001b[0m    \u001b[0mlegacy\u001b[0m\u001b[1;33m=\u001b[0m\u001b[1;32mNone\u001b[0m\u001b[1;33m,\u001b[0m\u001b[1;33m\n",
      "\u001b[0m\u001b[1;33m)\u001b[0m\u001b[1;33m\u001b[0m\u001b[1;33m\u001b[0m\u001b[0m\n",
      "\u001b[1;31mDocstring:\u001b[0m\n",
      "Set printing options.\n",
      "\n",
      "These options determine the way floating point numbers, arrays and\n",
      "other NumPy objects are displayed.\n",
      "\n",
      "Parameters\n",
      "----------\n",
      "precision : int or None, optional\n",
      "    Number of digits of precision for floating point output (default 8).\n",
      "    May be None if `floatmode` is not `fixed`, to print as many digits as\n",
      "    necessary to uniquely specify the value.\n",
      "threshold : int, optional\n",
      "    Total number of array elements which trigger summarization\n",
      "    rather than full repr (default 1000).\n",
      "    To always use the full repr without summarization, pass `sys.maxsize`.\n",
      "edgeitems : int, optional\n",
      "    Number of array items in summary at beginning and end of\n",
      "    each dimension (default 3).\n",
      "linewidth : int, optional\n",
      "    The number of characters per line for the purpose of inserting\n",
      "    line breaks (default 75).\n",
      "suppress : bool, optional\n",
      "    If True, always print floating point numbers using fixed point\n",
      "    notation, in which case numbers equal to zero in the current precision\n",
      "    will print as zero.  If False, then scientific notation is used when\n",
      "    absolute value of the smallest number is < 1e-4 or the ratio of the\n",
      "    maximum absolute value to the minimum is > 1e3. The default is False.\n",
      "nanstr : str, optional\n",
      "    String representation of floating point not-a-number (default nan).\n",
      "infstr : str, optional\n",
      "    String representation of floating point infinity (default inf).\n",
      "sign : string, either '-', '+', or ' ', optional\n",
      "    Controls printing of the sign of floating-point types. If '+', always\n",
      "    print the sign of positive values. If ' ', always prints a space\n",
      "    (whitespace character) in the sign position of positive values.  If\n",
      "    '-', omit the sign character of positive values. (default '-')\n",
      "formatter : dict of callables, optional\n",
      "    If not None, the keys should indicate the type(s) that the respective\n",
      "    formatting function applies to.  Callables should return a string.\n",
      "    Types that are not specified (by their corresponding keys) are handled\n",
      "    by the default formatters.  Individual types for which a formatter\n",
      "    can be set are:\n",
      "\n",
      "    - 'bool'\n",
      "    - 'int'\n",
      "    - 'timedelta' : a `numpy.timedelta64`\n",
      "    - 'datetime' : a `numpy.datetime64`\n",
      "    - 'float'\n",
      "    - 'longfloat' : 128-bit floats\n",
      "    - 'complexfloat'\n",
      "    - 'longcomplexfloat' : composed of two 128-bit floats\n",
      "    - 'numpystr' : types `numpy.string_` and `numpy.unicode_`\n",
      "    - 'object' : `np.object_` arrays\n",
      "\n",
      "    Other keys that can be used to set a group of types at once are:\n",
      "\n",
      "    - 'all' : sets all types\n",
      "    - 'int_kind' : sets 'int'\n",
      "    - 'float_kind' : sets 'float' and 'longfloat'\n",
      "    - 'complex_kind' : sets 'complexfloat' and 'longcomplexfloat'\n",
      "    - 'str_kind' : sets 'numpystr'\n",
      "floatmode : str, optional\n",
      "    Controls the interpretation of the `precision` option for\n",
      "    floating-point types. Can take the following values\n",
      "    (default maxprec_equal):\n",
      "\n",
      "    * 'fixed': Always print exactly `precision` fractional digits,\n",
      "            even if this would print more or fewer digits than\n",
      "            necessary to specify the value uniquely.\n",
      "    * 'unique': Print the minimum number of fractional digits necessary\n",
      "            to represent each value uniquely. Different elements may\n",
      "            have a different number of digits. The value of the\n",
      "            `precision` option is ignored.\n",
      "    * 'maxprec': Print at most `precision` fractional digits, but if\n",
      "            an element can be uniquely represented with fewer digits\n",
      "            only print it with that many.\n",
      "    * 'maxprec_equal': Print at most `precision` fractional digits,\n",
      "            but if every element in the array can be uniquely\n",
      "            represented with an equal number of fewer digits, use that\n",
      "            many digits for all elements.\n",
      "legacy : string or `False`, optional\n",
      "    If set to the string `'1.13'` enables 1.13 legacy printing mode. This\n",
      "    approximates numpy 1.13 print output by including a space in the sign\n",
      "    position of floats and different behavior for 0d arrays. This also\n",
      "    enables 1.21 legacy printing mode (described below).\n",
      "\n",
      "    If set to the string `'1.21'` enables 1.21 legacy printing mode. This\n",
      "    approximates numpy 1.21 print output of complex structured dtypes\n",
      "    by not inserting spaces after commas that separate fields and after\n",
      "    colons.\n",
      "\n",
      "    If set to `False`, disables legacy mode.\n",
      "\n",
      "    Unrecognized strings will be ignored with a warning for forward\n",
      "    compatibility.\n",
      "\n",
      "    .. versionadded:: 1.14.0\n",
      "    .. versionchanged:: 1.22.0\n",
      "\n",
      "See Also\n",
      "--------\n",
      "get_printoptions, printoptions, set_string_function, array2string\n",
      "\n",
      "Notes\n",
      "-----\n",
      "`formatter` is always reset with a call to `set_printoptions`.\n",
      "\n",
      "Use `printoptions` as a context manager to set the values temporarily.\n",
      "\n",
      "Examples\n",
      "--------\n",
      "Floating point precision can be set:\n",
      "\n",
      ">>> np.set_printoptions(precision=4)\n",
      ">>> np.array([1.123456789])\n",
      "[1.1235]\n",
      "\n",
      "Long arrays can be summarised:\n",
      "\n",
      ">>> np.set_printoptions(threshold=5)\n",
      ">>> np.arange(10)\n",
      "array([0, 1, 2, ..., 7, 8, 9])\n",
      "\n",
      "Small results can be suppressed:\n",
      "\n",
      ">>> eps = np.finfo(float).eps\n",
      ">>> x = np.arange(4.)\n",
      ">>> x**2 - (x + eps)**2\n",
      "array([-4.9304e-32, -4.4409e-16,  0.0000e+00,  0.0000e+00])\n",
      ">>> np.set_printoptions(suppress=True)\n",
      ">>> x**2 - (x + eps)**2\n",
      "array([-0., -0.,  0.,  0.])\n",
      "\n",
      "A custom formatter can be used to display array elements as desired:\n",
      "\n",
      ">>> np.set_printoptions(formatter={'all':lambda x: 'int: '+str(-x)})\n",
      ">>> x = np.arange(3)\n",
      ">>> x\n",
      "array([int: 0, int: -1, int: -2])\n",
      ">>> np.set_printoptions()  # formatter gets reset\n",
      ">>> x\n",
      "array([0, 1, 2])\n",
      "\n",
      "To put back the default options, you can use:\n",
      "\n",
      ">>> np.set_printoptions(edgeitems=3, infstr='inf',\n",
      "... linewidth=75, nanstr='nan', precision=8,\n",
      "... suppress=False, threshold=1000, formatter=None)\n",
      "\n",
      "Also to temporarily override options, use `printoptions` as a context manager:\n",
      "\n",
      ">>> with np.printoptions(precision=2, suppress=True, threshold=5):\n",
      "...     np.linspace(0, 10, 10)\n",
      "array([ 0.  ,  1.11,  2.22, ...,  7.78,  8.89, 10.  ])\n",
      "\u001b[1;31mFile:\u001b[0m      c:\\users\\tobia.beccari\\appdata\\local\\anaconda3\\lib\\site-packages\\numpy\\core\\arrayprint.py\n",
      "\u001b[1;31mType:\u001b[0m      function"
     ]
    }
   ],
   "source": [
    "import pandas as pd\n",
    "\n",
    "pd.options.display.max_columns = 20\n",
    "pd.options.display.max_rows = 20\n",
    "pd.options.display.max_colwidth = 80\n",
    "np.set_printoptions(precision=4, suppress=True)\n",
    "np.set_printoptions?"
   ]
  },
  {
   "cell_type": "code",
   "execution_count": 27,
   "metadata": {},
   "outputs": [
    {
     "data": {
      "text/plain": [
       "array([[0, 1, 2],\n",
       "       [3, 4, 5],\n",
       "       [6, 7, 8]])"
      ]
     },
     "execution_count": 27,
     "metadata": {},
     "output_type": "execute_result"
    }
   ],
   "source": [
    "np.arange(9).reshape(3,3)"
   ]
  }
 ],
 "metadata": {
  "kernelspec": {
   "display_name": "base",
   "language": "python",
   "name": "python3"
  },
  "language_info": {
   "codemirror_mode": {
    "name": "ipython",
    "version": 3
   },
   "file_extension": ".py",
   "mimetype": "text/x-python",
   "name": "python",
   "nbconvert_exporter": "python",
   "pygments_lexer": "ipython3",
   "version": "3.11.4"
  },
  "orig_nbformat": 4
 },
 "nbformat": 4,
 "nbformat_minor": 2
}
